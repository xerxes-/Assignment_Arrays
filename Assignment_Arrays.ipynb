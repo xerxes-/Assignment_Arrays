{
 "cells": [
  {
   "cell_type": "markdown",
   "id": "3b6d91d3-74e3-4f55-ae3a-8820b09882c0",
   "metadata": {},
   "source": [
    "#### 1. Given an array, check if it contains any duplicates or not.\n",
    "#### arr = [1, 2, 4, 2, 5, 9]\n",
    "#### Output = True"
   ]
  },
  {
   "cell_type": "code",
   "execution_count": 2,
   "id": "c1d42740-d1ca-4046-972f-aa9561dc88c1",
   "metadata": {},
   "outputs": [
    {
     "name": "stdout",
     "output_type": "stream",
     "text": [
      "True\n"
     ]
    }
   ],
   "source": [
    "def contains_duplicates(arr):\n",
    "    n = len(arr)\n",
    "    for i in range(n):\n",
    "        for j in range(i + 1, n):\n",
    "            if arr[i] == arr[j]:\n",
    "                return True  # If any two elements are equal, there's a duplicate\n",
    "    return False  # If no duplicates found, return False\n",
    "\n",
    "arr = [1, 2, 4, 2, 5, 9]\n",
    "print(contains_duplicates(arr))  "
   ]
  },
  {
   "cell_type": "markdown",
   "id": "392179b7-925f-4e3b-bda4-24b305b270ee",
   "metadata": {},
   "source": [
    "#### 2. Given an array and an integer k, rotate the array to the right by k steps.\n",
    "#### arr = [1, 2, 3, 4, 5, 6, 7] k = 3\n",
    "#### Output = [5, 6, 7, 1, 2, 3, 4]"
   ]
  },
  {
   "cell_type": "code",
   "execution_count": 4,
   "id": "2a9eb8d7-c9f0-4ca0-9cf0-6c66e1ecf46b",
   "metadata": {},
   "outputs": [
    {
     "name": "stdout",
     "output_type": "stream",
     "text": [
      "[5, 6, 7, 1, 2, 3, 4]\n"
     ]
    }
   ],
   "source": [
    "def rotate_array(arr, k):\n",
    "    n = len(arr)\n",
    "    for _ in range(k):\n",
    "        last_element = arr[-1]\n",
    "        for i in range(n - 1, 0, -1):\n",
    "            arr[i] = arr[i - 1]\n",
    "        arr[0] = last_element\n",
    "\n",
    "arr = [1, 2, 3, 4, 5, 6, 7]\n",
    "k = 3\n",
    "rotate_array(arr, k)\n",
    "print(arr)  \n"
   ]
  },
  {
   "cell_type": "markdown",
   "id": "33af4dd5-a0ac-4e21-b0d9-a43a59fbc091",
   "metadata": {},
   "source": [
    "#### 3. Reverse the given array in-place, means without using any extra data structure.\n",
    "#### arr = [2, 4, 5, 7, 9, 12]\n",
    "#### Output = [12, 9, 7, 5, 4, 2]"
   ]
  },
  {
   "cell_type": "code",
   "execution_count": 5,
   "id": "a053b266-0d5d-430b-b50b-3dc60a72c2f4",
   "metadata": {},
   "outputs": [
    {
     "name": "stdout",
     "output_type": "stream",
     "text": [
      "[12, 9, 7, 5, 4, 2]\n"
     ]
    }
   ],
   "source": [
    "def reverse_array(arr):\n",
    "    start = 0\n",
    "    end = len(arr) - 1\n",
    "    while start < end:\n",
    "        arr[start], arr[end] = arr[end], arr[start]\n",
    "        start += 1\n",
    "        end -= 1\n",
    "\n",
    "arr = [2, 4, 5, 7, 9, 12]\n",
    "reverse_array(arr)\n",
    "print(arr)  \n"
   ]
  },
  {
   "cell_type": "markdown",
   "id": "a4208b2e-f464-4a9c-b3cb-d5f34f7c018d",
   "metadata": {},
   "source": [
    "#### 4. Given an array of integers, find the maximum element in an array\n",
    "#### arr = [10, 5, 20, 8, 15]\n",
    "#### Output = 20"
   ]
  },
  {
   "cell_type": "code",
   "execution_count": 6,
   "id": "89616dc6-156b-4328-b98f-e4c68ef0697d",
   "metadata": {},
   "outputs": [
    {
     "name": "stdout",
     "output_type": "stream",
     "text": [
      "20\n"
     ]
    }
   ],
   "source": [
    "def find_max(arr):\n",
    "    max_element = arr[0]  # Initialize max_element with the first element\n",
    "    for num in arr:\n",
    "        if num > max_element:\n",
    "            max_element = num  # Update max_element if a larger element is found\n",
    "    return max_element\n",
    "\n",
    "arr = [10, 5, 20, 8, 15]\n",
    "print(find_max(arr))  \n"
   ]
  },
  {
   "cell_type": "markdown",
   "id": "e01d86fa-764b-41ac-a70a-7303f0a2dea4",
   "metadata": {},
   "source": [
    "#### 5. Given a sorted array, remove the duplicate element without using any extra data structure.\n",
    "#### arr = [1, 1, 2, 2, 2, 3, 3, 4, 4, 4, 5, 5]\n",
    "#### Output = [1, 2, 3, 4, 5]"
   ]
  },
  {
   "cell_type": "code",
   "execution_count": 7,
   "id": "bc98f41f-9e96-40fa-ad5d-8eed9e4547ce",
   "metadata": {},
   "outputs": [
    {
     "name": "stdout",
     "output_type": "stream",
     "text": [
      "[1, 2, 3, 4, 5]\n"
     ]
    }
   ],
   "source": [
    "def remove_duplicates(arr):\n",
    "    next_non_duplicate_index = 1  # Initialize the index for the next non-duplicate element\n",
    "\n",
    "    for i in range(1, len(arr)):\n",
    "        if arr[i] != arr[i - 1]:  # Compare current element with the previous element\n",
    "            arr[next_non_duplicate_index] = arr[i]  # Move non-duplicate element to next available position\n",
    "            next_non_duplicate_index += 1\n",
    "\n",
    "    del arr[next_non_duplicate_index:]  # Resize the array to remove extra duplicate elements\n",
    "\n",
    "arr = [1, 1, 2, 2, 2, 3, 3, 4, 4, 4, 5, 5]\n",
    "remove_duplicates(arr)\n",
    "print(arr)  \n"
   ]
  }
 ],
 "metadata": {
  "kernelspec": {
   "display_name": "Python 3 (ipykernel)",
   "language": "python",
   "name": "python3"
  },
  "language_info": {
   "codemirror_mode": {
    "name": "ipython",
    "version": 3
   },
   "file_extension": ".py",
   "mimetype": "text/x-python",
   "name": "python",
   "nbconvert_exporter": "python",
   "pygments_lexer": "ipython3",
   "version": "3.10.8"
  }
 },
 "nbformat": 4,
 "nbformat_minor": 5
}
